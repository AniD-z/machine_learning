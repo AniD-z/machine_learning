{
 "cells": [
  {
   "cell_type": "code",
   "execution_count": 19,
   "id": "44848154",
   "metadata": {},
   "outputs": [
    {
     "name": "stdout",
     "output_type": "stream",
     "text": [
      "[[ 1.]\n",
      " [55.]\n",
      " [18.]]\n"
     ]
    }
   ],
   "source": [
    "import pandas as pd\n",
    "import numpy as np\n",
    "pydf = pd.read_excel('Lab Session Data.xlsx', usecols = [4],sheet_name = 'Purchase data')\n",
    "thingsdf = pd.read_excel('Lab Session Data.xlsx', usecols = [1,2,3],sheet_name = 'Purchase data')\n",
    "thinvdf = np.linalg.pinv(thingsdf)\n",
    "newdf = np.dot(thinvdf,pydf)\n",
    "print(newdf)"
   ]
  },
  {
   "cell_type": "code",
   "execution_count": 20,
   "id": "a68e5ab2",
   "metadata": {},
   "outputs": [
    {
     "name": "stdout",
     "output_type": "stream",
     "text": [
      "[[0.00029851 0.01641791 0.00537313]]\n"
     ]
    }
   ],
   "source": [
    "xdf = np.linalg.pinv(newdf)\n",
    "print(xdf)"
   ]
  },
  {
   "cell_type": "code",
   "execution_count": null,
   "id": "b680ceb8",
   "metadata": {},
   "outputs": [],
   "source": [
    "paydf['Label'] = paydf['Payment (Rs)'].apply(lambda x: 'RICH' if x > 200 else 'POOR')\n",
    "paydf.head(10)"
   ]
  },
  {
   "cell_type": "code",
   "execution_count": null,
   "id": "fe0f4205",
   "metadata": {},
   "outputs": [],
   "source": [
    "data = pd.concat([coldf, paydf['Label']], axis=1)\n",
    "data.columns = ['Candies (#)', 'Mangoes (Kg)', 'Milk Packets (#)', 'Label']\n",
    "pd.DataFrame(data).head(10)"
   ]
  },
  {
   "cell_type": "code",
   "execution_count": 21,
   "id": "eb9deb99",
   "metadata": {},
   "outputs": [
    {
     "name": "stdout",
     "output_type": "stream",
     "text": [
      "1560.663453815261\n",
      "58732.365352539186\n"
     ]
    }
   ],
   "source": [
    "import pandas as pd\n",
    "import statistics\n",
    "import numpy as np\n",
    "zzdf = pd.read_excel('Lab Session Data.xlsx', usecols = [1,2,3,4,5,6,7,8],sheet_name = 'IRCTC Stock Price')\n",
    "newdf = statistics.mean(zzdf['Price'])\n",
    "nayadf = statistics.variance(zzdf['Price'])\n",
    "print(newdf)\n",
    "print(nayadf)"
   ]
  },
  {
   "cell_type": "code",
   "execution_count": null,
   "id": "80dc571e",
   "metadata": {},
   "outputs": [],
   "source": [
    "wednesdays = irctc[irctc['Day'] == 'Wed']\n",
    "sample_mean = statistics.mean(wednesdays['Price'])\n",
    "population_mean = statistics.mean(irctc['Price'])\n",
    "\n",
    "print(sample_mean)\n",
    "print(population_mean)\n",
    "\n",
    "print(population_mean - sample_mean)"
   ]
  },
  {
   "cell_type": "markdown",
   "id": "419d998e",
   "metadata": {},
   "source": [
    "1560.663453815261\n",
    "58732.365352539186\n"
   ]
  },
  {
   "cell_type": "code",
   "execution_count": null,
   "id": "633e1f45",
   "metadata": {},
   "outputs": [
    {
     "ename": "",
     "evalue": "",
     "output_type": "error",
     "traceback": [
      "\u001b[1;31mRunning cells with 'Python 3.11.9' requires the ipykernel package.\n",
      "\u001b[1;31mRun the following command to install 'ipykernel' into the Python environment. \n",
      "\u001b[1;31mCommand: 'c:/Users/KATANA/AppData/Local/Programs/Python/Python311/python.exe -m pip install ipykernel -U --user --force-reinstall'"
     ]
    }
   ],
   "source": [
    "april = irctc[irctc['Month'] == 'Apr']\n",
    "s_mean = statistics.mean(april['Price'])\n",
    "\n",
    "print(population_mean - s_mean)"
   ]
  },
  {
   "cell_type": "code",
   "execution_count": null,
   "id": "626f55af",
   "metadata": {},
   "outputs": [],
   "source": [
    "count = (irctc['Chg%'] < 0).sum()\n",
    "loss_prob = count/len(irctc)\n",
    "print(loss_prob)"
   ]
  },
  {
   "cell_type": "code",
   "execution_count": null,
   "id": "51da88f0",
   "metadata": {},
   "outputs": [],
   "source": [
    "prof_prob = 1 - loss_prob\n",
    "wedprof = (irctc['Day'] == 'Wed') & (irctc['Chg%'] > 0)\n",
    "wedprof_prob = wedprof.sum()/len(wednesdays)\n",
    "print(wedprof_prob)"
   ]
  },
  {
   "cell_type": "code",
   "execution_count": null,
   "id": "7cd1b1a8",
   "metadata": {},
   "outputs": [],
   "source": [
    "wed = len(irctc['Day']=='Wed')/len(irctc['Day'])\n",
    "cond_prob = wedprof_prob*wed\n",
    "print(cond_prob)"
   ]
  },
  {
   "cell_type": "code",
   "execution_count": null,
   "id": "15673f85",
   "metadata": {},
   "outputs": [],
   "source": [
    "import matplotlib.pyplot as plt\n",
    "\n",
    "days_order = ['Mon', 'Tue', 'Wed', 'Thu', 'Fri', 'Sat', 'Sun']\n",
    "irctc['Day'] = pd.Categorical(irctc['Day'], categories=days_order, ordered=True)\n",
    "plt.figure(figsize=(10, 6))\n",
    "plt.scatter(irctc['Day'], irctc['Chg%'], color='blue', s=100, alpha=0.7)\n",
    "plt.xlabel('Day of the Week')\n",
    "plt.ylabel('Percentage Change (Chg%)')\n",
    "plt.title('Scatter Plot of Percentage Change by Day of the Week')\n",
    "plt.grid(True)\n",
    "plt.show()"
   ]
  },
  {
   "cell_type": "code",
   "execution_count": 1,
   "id": "5aa0eb0a",
   "metadata": {},
   "outputs": [
    {
     "ename": "ModuleNotFoundError",
     "evalue": "No module named 'pandas'",
     "output_type": "error",
     "traceback": [
      "\u001b[1;31m---------------------------------------------------------------------------\u001b[0m",
      "\u001b[1;31mModuleNotFoundError\u001b[0m                       Traceback (most recent call last)",
      "Cell \u001b[1;32mIn[1], line 1\u001b[0m\n\u001b[1;32m----> 1\u001b[0m \u001b[38;5;28;01mimport\u001b[39;00m \u001b[38;5;21;01mpandas\u001b[39;00m \u001b[38;5;28;01mas\u001b[39;00m \u001b[38;5;21;01mpd\u001b[39;00m\n\u001b[0;32m      2\u001b[0m \u001b[38;5;28;01mimport\u001b[39;00m \u001b[38;5;21;01mstatistics\u001b[39;00m\n\u001b[0;32m      4\u001b[0m jjdf \u001b[38;5;241m=\u001b[39m pd\u001b[38;5;241m.\u001b[39mread_excel(\u001b[38;5;124m'\u001b[39m\u001b[38;5;124mLab Session Data.xlsx\u001b[39m\u001b[38;5;124m'\u001b[39m, usecols \u001b[38;5;241m=\u001b[39m [\u001b[38;5;241m1\u001b[39m,\u001b[38;5;241m18\u001b[39m,\u001b[38;5;241m20\u001b[39m,\u001b[38;5;241m22\u001b[39m,\u001b[38;5;241m24\u001b[39m,\u001b[38;5;241m26\u001b[39m,\u001b[38;5;241m28\u001b[39m],sheet_name \u001b[38;5;241m=\u001b[39m \u001b[38;5;124m'\u001b[39m\u001b[38;5;124mthyroid0387_UCI\u001b[39m\u001b[38;5;124m'\u001b[39m)\n",
      "\u001b[1;31mModuleNotFoundError\u001b[0m: No module named 'pandas'"
     ]
    }
   ],
   "source": [
    "import pandas as pd\n",
    "import statistics\n",
    "\n",
    "jjdf = pd.read_excel('Lab Session Data.xlsx', usecols = [1,18,20,22,24,26,28],sheet_name = 'thyroid0387_UCI')\n",
    "print(jjdf)\n",
    "\n",
    "jjdf = jjdf.replace('?', pd.NA)\n",
    "jjdf['TSH'] = pd.to_numeric(jjdf['TSH'], errors='coerce').dropna()\n",
    "jjdf['T3'] = pd.to_numeric(jjdf['T3'], errors='coerce').dropna()\n",
    "jjdf['TT4'] = pd.to_numeric(jjdf['TT4'], errors='coerce').dropna()\n",
    "jjdf['FTI'] = pd.to_numeric(jjdf['FTI'], errors='coerce').dropna()\n",
    "jjdf['T4U'] = pd.to_numeric(jjdf['T4U'], errors='coerce').dropna() \n",
    "jjdf['TBG'] = pd.to_numeric(jjdf['TBG'], errors='coerce').dropna() \n",
    "\n",
    "jjdf = jjdf.dropna(subset=['TSH', 'T3', 'TT4', 'FTI', 'T4U','TBG'])\n",
    "\n",
    "jewdf_age = statistics.mean(jjdf['age'])\n",
    "jayadf_age = statistics.variance(jjdf['age'])\n",
    "print(f\"Mean of 'age': {jewdf_age}\")\n",
    "print(f\"Variance of 'age': {jayadf_age}\")\n",
    "\n",
    "jewdf_TSH = statistics.mean(jjdf['TSH'])\n",
    "jayadf_TSH = statistics.variance(jjdf['TSH'])\n",
    "print(f\"Mean of 'TSH': {jewdf_TSH}\")\n",
    "print(f\"Variance of 'TSH': {jayadf_TSH}\")\n",
    "\n",
    "jewdf_T3 = statistics.mean(jjdf['T3'])\n",
    "jayadf_T3 = statistics.variance(jjdf['T3'])\n",
    "print(f\"Mean of 'T3': {jewdf_T3}\")\n",
    "print(f\"Variance of 'T3': {jayadf_T3}\")\n",
    "\n",
    "jewdf_TT4 = statistics.mean(jjdf['TT4'])\n",
    "jayadf_TT4 = statistics.variance(jjdf['TT4'])\n",
    "print(f\"Mean of 'TT4': {jewdf_TT4}\")\n",
    "print(f\"Variance of 'TT4': {jayadf_TT4}\")\n",
    "\n",
    "jewdf_T4U = statistics.mean(jjdf['T4U'])\n",
    "jayadf_T4U = statistics.variance(jjdf['T4U'])\n",
    "print(f\"Mean of 'T4U': {jewdf_T4U}\")\n",
    "print(f\"Variance of 'T4U': {jayadf_T4U}\")\n",
    "\n",
    "jewdf_FTI = statistics.mean(jjdf['FTI'])\n",
    "jayadf_FTI = statistics.variance(jjdf['FTI'])\n",
    "print(f\"Mean of 'FTI': {jewdf_FTI}\")\n",
    "print(f\"Variance of 'FTI': {jayadf_FTI}\")\n",
    "\n",
    "jewdf_TBG = statistics.mean(jjdf['TBG'])\n",
    "jayadf_TBG = statistics.variance(jjdf['TBG'])\n",
    "print(f\"Mean of 'TBG': {jewdf_TBG}\")\n",
    "print(f\"Variance of 'TBG': {jayadf_TBG}\")"
   ]
  },
  {
   "cell_type": "code",
   "execution_count": 1,
   "id": "e1fe81d1",
   "metadata": {},
   "outputs": [
    {
     "name": "stdout",
     "output_type": "stream",
     "text": [
      "helo world\n"
     ]
    }
   ],
   "source": [
    "print(\"helo world\")"
   ]
  }
 ],
 "metadata": {
  "kernelspec": {
   "display_name": "Python 3 (ipykernel)",
   "language": "python",
   "name": "python3"
  },
  "language_info": {
   "codemirror_mode": {
    "name": "ipython",
    "version": 3
   },
   "file_extension": ".py",
   "mimetype": "text/x-python",
   "name": "python",
   "nbconvert_exporter": "python",
   "pygments_lexer": "ipython3",
   "version": "undefined.undefined.undefined"
  }
 },
 "nbformat": 4,
 "nbformat_minor": 5
}
