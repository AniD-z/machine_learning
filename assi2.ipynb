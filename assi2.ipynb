{
 "cells": [
  {
   "cell_type": "code",
   "execution_count": 19,
   "id": "44848154",
   "metadata": {},
   "outputs": [
    {
     "name": "stdout",
     "output_type": "stream",
     "text": [
      "[[ 1.]\n",
      " [55.]\n",
      " [18.]]\n"
     ]
    }
   ],
   "source": [
    "import pandas as pd\n",
    "import numpy as np\n",
    "pydf = pd.read_excel('Lab Session Data.xlsx', usecols = [4],sheet_name = 'Purchase data')\n",
    "thingsdf = pd.read_excel('Lab Session Data.xlsx', usecols = [1,2,3],sheet_name = 'Purchase data')\n",
    "thinvdf = np.linalg.pinv(thingsdf)\n",
    "newdf = np.dot(thinvdf,pydf)\n",
    "print(newdf)"
   ]
  },
  {
   "cell_type": "code",
   "execution_count": 20,
   "id": "a68e5ab2",
   "metadata": {},
   "outputs": [
    {
     "name": "stdout",
     "output_type": "stream",
     "text": [
      "[[0.00029851 0.01641791 0.00537313]]\n"
     ]
    }
   ],
   "source": [
    "xdf = np.linalg.pinv(newdf)\n",
    "print(xdf)"
   ]
  },
  {
   "cell_type": "code",
   "execution_count": 21,
   "id": "eb9deb99",
   "metadata": {},
   "outputs": [
    {
     "name": "stdout",
     "output_type": "stream",
     "text": [
      "1560.663453815261\n",
      "58732.365352539186\n"
     ]
    }
   ],
   "source": [
    "import pandas as pd\n",
    "import statistics\n",
    "import numpy as np\n",
    "zzdf = pd.read_excel('Lab Session Data.xlsx', usecols = [1,2,3,4,5,6,7,8],sheet_name = 'IRCTC Stock Price')\n",
    "newdf = statistics.mean(zzdf['Price'])\n",
    "nayadf = statistics.variance(zzdf['Price'])\n",
    "print(newdf)\n",
    "print(nayadf)"
   ]
  },
  {
   "cell_type": "code",
   "execution_count": null,
   "id": "5aa0eb0a",
   "metadata": {},
   "outputs": [],
   "source": [
    "fullmean = statistics"
   ]
  }
 ],
 "metadata": {
  "kernelspec": {
   "display_name": "Python 3 (ipykernel)",
   "language": "python",
   "name": "python3"
  },
  "language_info": {
   "codemirror_mode": {
    "name": "ipython",
    "version": 3
   },
   "file_extension": ".py",
   "mimetype": "text/x-python",
   "name": "python",
   "nbconvert_exporter": "python",
   "pygments_lexer": "ipython3",
   "version": "3.9.13"
  }
 },
 "nbformat": 4,
 "nbformat_minor": 5
}
